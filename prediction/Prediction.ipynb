{
 "cells": [
  {
   "cell_type": "code",
   "execution_count": 11,
   "metadata": {},
   "outputs": [],
   "source": [
    "import joblib\n",
    "import numpy as np\n",
    "from sklearn import metrics"
   ]
  },
  {
   "cell_type": "code",
   "execution_count": 16,
   "metadata": {},
   "outputs": [],
   "source": [
    "(X_train, y_train) = joblib.load('../data/training_crime_data.joblib')\n",
    "(X_test, y_test) = joblib.load('../data/training_crime_data2.joblib')"
   ]
  },
  {
   "cell_type": "code",
   "execution_count": 15,
   "metadata": {},
   "outputs": [],
   "source": [
    "class GaussianNaiveBayes:\n",
    "    def fit(self, X, y):\n",
    "        self.classes = np.unique(y)\n",
    "        self.mean = {}\n",
    "        self.var = {}\n",
    "        self.prior = {}\n",
    "\n",
    "        for cls in self.classes:\n",
    "            X_cls = X[y == cls]\n",
    "            self.mean[cls] = np.mean(X_cls, axis=0)\n",
    "            self.var[cls] = np.var(X_cls, axis=0)\n",
    "            self.prior[cls] = len(X_cls) / len(X)\n",
    "\n",
    "    def _pdf(self, x, mean, var):\n",
    "        exponent = np.exp(-(x - mean)**2 / (2 * var))\n",
    "        return (1 / np.sqrt(2 * np.pi * var)) * exponent\n",
    "\n",
    "    def predict_proba(self, X):\n",
    "        likelihood = np.zeros((X.shape[0], len(self.classes)))\n",
    "\n",
    "        for i, cls in enumerate(self.classes):\n",
    "            prior = np.log(self.prior[cls])\n",
    "            pdf = np.sum(np.log(self._pdf(X, self.mean[cls], self.var[cls])), axis=1)\n",
    "            likelihood[:, i] = prior + pdf\n",
    "\n",
    "        # Normalize to get probabilities\n",
    "        exp_likelihood = np.exp(likelihood)\n",
    "        probabilities = exp_likelihood / np.sum(exp_likelihood, axis=1, keepdims=True)\n",
    "\n",
    "        return probabilities\n",
    "\n",
    "    def predict(self, X):\n",
    "        probabilities = self.predict_proba(X)\n",
    "        return np.argmax(probabilities, axis=1)"
   ]
  },
  {
   "cell_type": "code",
   "execution_count": 17,
   "metadata": {},
   "outputs": [
    {
     "name": "stderr",
     "output_type": "stream",
     "text": [
      "/tmp/ipykernel_69479/1987006925.py:23: RuntimeWarning: divide by zero encountered in log\n",
      "  pdf = np.sum(np.log(self._pdf(X, self.mean[cls], self.var[cls])), axis=1)\n",
      "/tmp/ipykernel_69479/1987006925.py:28: RuntimeWarning: invalid value encountered in divide\n",
      "  probabilities = exp_likelihood / np.sum(exp_likelihood, axis=1, keepdims=True)\n"
     ]
    }
   ],
   "source": [
    "model = GaussianNaiveBayes()\n",
    "model.fit(X_train, y_train)\n",
    "\n",
    "# Assuming X_test is your test data\n",
    "predictions = model.predict(X_test)"
   ]
  },
  {
   "cell_type": "code",
   "execution_count": 18,
   "metadata": {},
   "outputs": [
    {
     "name": "stdout",
     "output_type": "stream",
     "text": [
      "Accuracy: 0.44\n",
      "Precision: 0.79\n",
      "Recall: 0.44\n",
      "F1 Score: 0.50\n"
     ]
    }
   ],
   "source": [
    "accuracy = metrics.accuracy_score(y_true=y_test, y_pred=predictions)\n",
    "precision = metrics.precision_score(y_true=y_test, y_pred=predictions, average='weighted')\n",
    "recall = metrics.recall_score(y_true=y_test, y_pred=predictions, average='weighted')\n",
    "f1 = metrics.f1_score(y_true=y_test, y_pred=predictions, average='weighted')\n",
    "\n",
    "print(f\"Accuracy: {accuracy:.2f}\")\n",
    "print(f\"Precision: {precision:.2f}\")\n",
    "print(f\"Recall: {recall:.2f}\")\n",
    "print(f\"F1 Score: {f1:.2f}\")"
   ]
  }
 ],
 "metadata": {
  "kernelspec": {
   "display_name": "venv",
   "language": "python",
   "name": "python3"
  },
  "language_info": {
   "codemirror_mode": {
    "name": "ipython",
    "version": 3
   },
   "file_extension": ".py",
   "mimetype": "text/x-python",
   "name": "python",
   "nbconvert_exporter": "python",
   "pygments_lexer": "ipython3",
   "version": "3.10.12"
  }
 },
 "nbformat": 4,
 "nbformat_minor": 2
}
